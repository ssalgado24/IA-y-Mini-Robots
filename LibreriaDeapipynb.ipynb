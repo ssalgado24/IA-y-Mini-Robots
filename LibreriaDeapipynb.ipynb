{
  "nbformat": 4,
  "nbformat_minor": 0,
  "metadata": {
    "colab": {
      "name": "LibreriaDeapipynb",
      "provenance": []
    },
    "kernelspec": {
      "name": "python3",
      "display_name": "Python 3"
    },
    "language_info": {
      "name": "python"
    }
  },
  "cells": [
    {
      "cell_type": "markdown",
      "metadata": {
        "id": "By9WNKrzCCJL"
      },
      "source": [
        "# **Librería Deap para algoritmos genéticos en Python**"
      ]
    },
    {
      "cell_type": "markdown",
      "metadata": {
        "id": "kU4CFmNEMEI4"
      },
      "source": [
        "DEAP es un marco de cálculo evolutivo novedoso para la creación rápida de prototipos y la prueba de ideas. Busca hacer que los algoritmos sean explícitos y las estructuras de datos transparentes. Funciona en perfecta armonía con mecanismos de paralelización como multiprocesamiento y SCOOP."
      ]
    },
    {
      "cell_type": "markdown",
      "metadata": {
        "id": "2etoA4I2Nqr-"
      },
      "source": [
        "## **Types**"
      ]
    },
    {
      "cell_type": "markdown",
      "metadata": {
        "id": "zc1Y9xvdNhWL"
      },
      "source": [
        "Lo primero que debe hacer es pensar en el tipo apropiado para su problema. Luego, en lugar de buscar en la lista de tipos disponibles, DEAP le permite crear el suyo propio. Esto se hace con el módulo creador. Crear un tipo apropiado puede parecer abrumador, pero el creador lo hace muy fácil. De hecho, esto se suele hacer en una sola línea. Por ejemplo, lo siguiente crea una clase FitnessMin para un problema de minimización y una clase Individual que se deriva de una lista con un atributo de aptitud establecido para la aptitud recién creada."
      ]
    },
    {
      "cell_type": "code",
      "metadata": {
        "id": "oca2NT8aCBJv"
      },
      "source": [
        "from deap import base, creator\n",
        "creator.create(\"FitnessMin\", base.Fitness, weights=(-1.0,))\n",
        "creator.create(\"Individual\", list, fitness=creator.FitnessMin)"
      ],
      "execution_count": null,
      "outputs": []
    },
    {
      "cell_type": "markdown",
      "metadata": {
        "id": "GKBCOveeudDh"
      },
      "source": [
        "## **Inicialización**"
      ]
    },
    {
      "cell_type": "markdown",
      "metadata": {
        "id": "xu-0CN8_WG2_"
      },
      "source": [
        "Una vez que se crean los tipos, debe completarlos con valores a veces aleatorios o adivinados. Una vez más, DEAP proporciona un mecanismo sencillo para hacer precisamente eso. La Caja de herramientas es un contenedor de herramientas de todo tipo, incluidos los inicializadores que pueden hacer lo que se necesita de ellos. Lo siguiente toma las últimas líneas de código para crear los inicializadores para individuos que contienen números de coma flotante aleatorios y para una población que los contiene."
      ]
    },
    {
      "cell_type": "code",
      "metadata": {
        "id": "_bLAmXvquQfP"
      },
      "source": [
        "import random\n",
        "from deap import tools\n",
        "\n",
        "IND_SIZE = 10\n",
        "\n",
        "toolbox = base.Toolbox()\n",
        "toolbox.register(\"attribute\", random.random)\n",
        "toolbox.register(\"individual\", tools.initRepeat, creator.Individual,\n",
        "                 toolbox.attribute, n=IND_SIZE)\n",
        "toolbox.register(\"population\", tools.initRepeat, list, toolbox.individual)"
      ],
      "execution_count": null,
      "outputs": []
    },
    {
      "cell_type": "markdown",
      "metadata": {
        "id": "j0GwQF8NvjHX"
      },
      "source": [
        "## **Operadores**"
      ]
    },
    {
      "cell_type": "markdown",
      "metadata": {
        "id": "91DXYBqivuZE"
      },
      "source": [
        "Los operadores son como inicializadores, excepto que algunos ya están implementados en el módulo de herramientas. Una vez que haya elegido los perfectos, simplemente regístrelos en la caja de herramientas. Además debes crear tu función de evaluación. Así es como se hace en DEAP."
      ]
    },
    {
      "cell_type": "code",
      "metadata": {
        "id": "1PY9ahBlvxkg"
      },
      "source": [
        "def evaluate(individual):\n",
        "    return sum(individual),\n",
        "\n",
        "toolbox.register(\"mate\", tools.cxTwoPoint)\n",
        "toolbox.register(\"mutate\", tools.mutGaussian, mu=0, sigma=1, indpb=0.1)\n",
        "toolbox.register(\"select\", tools.selTournament, tournsize=3)\n",
        "toolbox.register(\"evaluate\", evaluate)"
      ],
      "execution_count": null,
      "outputs": []
    },
    {
      "cell_type": "markdown",
      "metadata": {
        "id": "wwllFGeIucVc"
      },
      "source": [
        ""
      ]
    }
  ]
}